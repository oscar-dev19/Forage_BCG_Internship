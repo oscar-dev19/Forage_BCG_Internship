{
 "cells": [
  {
   "cell_type": "markdown",
   "id": "0f9ddc12-c17a-45ff-9f7a-7b117d134dcf",
   "metadata": {},
   "source": [
    "# Task 2: Exploratory Data Analysis\n",
    "---"
   ]
  },
  {
   "cell_type": "markdown",
   "id": "1dc84471-6664-4255-85a6-f51d5c748edc",
   "metadata": {},
   "source": [
    " Background information\n",
    "\n",
    "The BCG project team thinks that building a churn model to understand whether price sensitivity is the largest driver of churn has potential. The client has sent over some data and the AD wants you to perform some exploratory data analysis.\n",
    "\n",
    "The data that was sent over includes:\n",
    "\n",
    "    Historical customer data: Customer data such as usage, sign up date, forecasted usage etc\n",
    "    Historical pricing data: variable and fixed pricing data etc\n",
    "    Churn indicator: whether each customer has churned or not\n",
    "\n",
    "Task\n",
    "\n",
    "Sub-Task 1:\n",
    "\n",
    "Perform some exploratory data analysis. Look into the data types, data statistics, specific parameters, and variable distributions. This first subtask is for you to gain a holistic understanding of the dataset. You should spend around 1 hour on this.\n",
    "\n",
    "Sub-Task 2:\n",
    "\n",
    "Verify the hypothesis of price sensitivity being to some extent correlated with churn. It is up to you to define price sensitivity and calculate it. You should spend around 30 minutes on this.\n",
    "\n",
    "Sub-Task 3:\n",
    "\n",
    "Prepare a half-page summary or slide of key findings and add some suggestions for data augmentation – which other sources of data should the client provide you with and which open source datasets might be useful? You should spend 10-15 minutes on this.\n"
   ]
  },
  {
   "cell_type": "markdown",
   "id": "fcb72453-c5b4-4ba7-b2c3-e079c1cd750c",
   "metadata": {},
   "source": [
    "## Sub-Task 1\n",
    "---"
   ]
  },
  {
   "cell_type": "markdown",
   "id": "6cecf32a-9cca-4192-9ad0-142e46a6da1b",
   "metadata": {},
   "source": [
    "### Read Data\n",
    "---"
   ]
  },
  {
   "cell_type": "code",
   "execution_count": 21,
   "id": "31c9b952-9cea-494b-8d01-947449fc2c01",
   "metadata": {},
   "outputs": [],
   "source": [
    "import logging as log\n",
    "log.basicConfig(filename='./eda.log', level=log.DEBUG, format = '%(asctime)s %(levelname)s %(name)s %(message)s')\n"
   ]
  },
  {
   "cell_type": "code",
   "execution_count": 23,
   "id": "0cc227b5-9d11-41cd-98b0-08929343d01d",
   "metadata": {},
   "outputs": [],
   "source": [
    "import pandas as pd\n",
    "\n",
    "def read_file(file_name):\n",
    "    file_extension = file_name.split(\".\")[-1].lower()\n",
    "\n",
    "    if file_extension == \"csv\":\n",
    "        return pd.read_csv(file_name)\n",
    "    elif file_extension == \"xlsx\":\n",
    "        return pd.read_excel(file_name)\n",
    "    elif file_extension == \"json\":\n",
    "        return pd.read_json(file_name)\n",
    "    elif file_extension == \"parquet\":\n",
    "        return pd.read_parquet(file_name)\n",
    "    else:\n",
    "        raise ValueError(\"Unsupported file format.\")"
   ]
  },
  {
   "cell_type": "code",
   "execution_count": 22,
   "id": "aac35eb8-83e5-48ec-b246-f14134192c1e",
   "metadata": {},
   "outputs": [],
   "source": [
    "DATA_ROOT_DIR = '../data/'"
   ]
  },
  {
   "cell_type": "code",
   "execution_count": 24,
   "id": "32447a02-75ce-4a95-bd96-1b43daeaaa4e",
   "metadata": {},
   "outputs": [],
   "source": [
    "try:\n",
    "    client_df = read_file(f'{DATA_ROOT_DIR}client_data.csv')\n",
    "    log.debug(f'\\nSuccessfully read {DATA_ROOT_DIR}client_data.csv')\n",
    "except Exception as e:\n",
    "    log.error(e)\n",
    "    "
   ]
  },
  {
   "cell_type": "code",
   "execution_count": 26,
   "id": "4aba0a19-36a7-415e-979b-e65bb15daeff",
   "metadata": {},
   "outputs": [
    {
     "name": "stdout",
     "output_type": "stream",
     "text": [
      "<class 'pandas.core.frame.DataFrame'>\n",
      "RangeIndex: 14606 entries, 0 to 14605\n",
      "Data columns (total 26 columns):\n",
      " #   Column                          Non-Null Count  Dtype  \n",
      "---  ------                          --------------  -----  \n",
      " 0   id                              14606 non-null  object \n",
      " 1   channel_sales                   14606 non-null  object \n",
      " 2   cons_12m                        14606 non-null  int64  \n",
      " 3   cons_gas_12m                    14606 non-null  int64  \n",
      " 4   cons_last_month                 14606 non-null  int64  \n",
      " 5   date_activ                      14606 non-null  object \n",
      " 6   date_end                        14606 non-null  object \n",
      " 7   date_modif_prod                 14606 non-null  object \n",
      " 8   date_renewal                    14606 non-null  object \n",
      " 9   forecast_cons_12m               14606 non-null  float64\n",
      " 10  forecast_cons_year              14606 non-null  int64  \n",
      " 11  forecast_discount_energy        14606 non-null  float64\n",
      " 12  forecast_meter_rent_12m         14606 non-null  float64\n",
      " 13  forecast_price_energy_off_peak  14606 non-null  float64\n",
      " 14  forecast_price_energy_peak      14606 non-null  float64\n",
      " 15  forecast_price_pow_off_peak     14606 non-null  float64\n",
      " 16  has_gas                         14606 non-null  object \n",
      " 17  imp_cons                        14606 non-null  float64\n",
      " 18  margin_gross_pow_ele            14606 non-null  float64\n",
      " 19  margin_net_pow_ele              14606 non-null  float64\n",
      " 20  nb_prod_act                     14606 non-null  int64  \n",
      " 21  net_margin                      14606 non-null  float64\n",
      " 22  num_years_antig                 14606 non-null  int64  \n",
      " 23  origin_up                       14606 non-null  object \n",
      " 24  pow_max                         14606 non-null  float64\n",
      " 25  churn                           14606 non-null  int64  \n",
      "dtypes: float64(11), int64(7), object(8)\n",
      "memory usage: 2.9+ MB\n"
     ]
    }
   ],
   "source": [
    "#lets observe the data briefly\n",
    "client_df.info()"
   ]
  },
  {
   "cell_type": "code",
   "execution_count": 27,
   "id": "e4937d10-35fb-4eb5-9be8-4f8cb2cb297b",
   "metadata": {},
   "outputs": [],
   "source": [
    "#Convert datetime objects to datetime data types.\n",
    "for c in ['date_activ','date_end','date_modif_prod','date_renewal']:\n",
    "    client_df[c] = pd.to_datetime(client_df[c])"
   ]
  },
  {
   "cell_type": "code",
   "execution_count": 29,
   "id": "1d480c68-d22c-47b2-a5d1-c94ad9b81631",
   "metadata": {},
   "outputs": [],
   "source": [
    "# Add some new features.\n",
    "client_df['contract_start_year'] = client_df['date_activ'].dt.year\n",
    "client_df['contract_end_year'] = client_df['date_end'].dt.year"
   ]
  },
  {
   "cell_type": "code",
   "execution_count": 30,
   "id": "ff187f02-762a-4f91-b4e5-6717f059449d",
   "metadata": {},
   "outputs": [],
   "source": [
    "#find duplicates and missing data. \n",
    "def duplicate_and_missing(dataset, dataset_name):\n",
    "    num_rows, num_columns = dataset.shape\n",
    "\n",
    "    print(f\"There are {num_rows} rows and {num_columns} columns in the dataset '{dataset_name}'\")\n",
    "    print(\"--\" * 40)\n",
    "\n",
    "    # Display missing values\n",
    "    missing_values = dataset.isna().sum()\n",
    "    if missing_values.sum() != 0:\n",
    "        missing_values = missing_values[missing_values != 0]\n",
    "        missing_proportion = missing_values / len(dataset)\n",
    "        print(f\"There are {missing_values.sum()} missing values\")\n",
    "        missing_df = pd.DataFrame({'count': missing_values, 'proportion': missing_proportion})\n",
    "        print(missing_df)\n",
    "        print(\"--\" * 40)\n",
    "    else:\n",
    "        print(\"There are no missing values\")"
   ]
  },
  {
   "cell_type": "code",
   "execution_count": 31,
   "id": "36f711bf-ff9f-414a-9875-9fd2ce441d02",
   "metadata": {},
   "outputs": [
    {
     "name": "stdout",
     "output_type": "stream",
     "text": [
      "There are 14606 rows and 28 columns in the dataset 'Client'\n",
      "--------------------------------------------------------------------------------\n",
      "There are no missing values\n"
     ]
    }
   ],
   "source": [
    "duplicate_and_missing(dataset=client_df, dataset_name='Client')"
   ]
  },
  {
   "cell_type": "code",
   "execution_count": 32,
   "id": "57021bb7-070d-418e-bbaa-84eb9a3cdfe1",
   "metadata": {},
   "outputs": [],
   "source": [
    "#Lets find all categorical data.\n",
    "def describe_categorical(dataset):\n",
    "    cat_columns = dataset.select_dtypes(include=['object']).columns.tolist()\n",
    "    if len(cat_columns) != 0:\n",
    "        print(\"Categorical variables are:\", cat_columns)\n",
    "        print(\"==\" * 40)\n",
    "        for cat in cat_columns:\n",
    "            describe_frame = dataset[cat].value_counts().reset_index(name='count')\n",
    "            describe_frame['proportion'] = describe_frame['count'] / len(dataset)\n",
    "            print(describe_frame)\n",
    "            print(\"--\" * 40)\n",
    "    else:\n",
    "        print(\"There are no categorical variables in the dataset\")"
   ]
  },
  {
   "cell_type": "code",
   "execution_count": 33,
   "id": "c8eb9db9-9d40-4eec-a8c2-9240febf70a2",
   "metadata": {},
   "outputs": [
    {
     "name": "stdout",
     "output_type": "stream",
     "text": [
      "Categorical variables are: ['id', 'channel_sales', 'has_gas', 'origin_up']\n",
      "================================================================================\n",
      "                                     id  count  proportion\n",
      "0      24011ae4ebbe3035111d65fa7c15bc57      1    0.000068\n",
      "1      2fae70276cd7a4874a2aefcd68d5a184      1    0.000068\n",
      "2      a7a9dac0ffc2ad56c66a1b08d53d0e51      1    0.000068\n",
      "3      6cfbce2099a4163ea4fe422fb28829ea      1    0.000068\n",
      "4      4289e929ecd35a0754e697feb24a091b      1    0.000068\n",
      "...                                 ...    ...         ...\n",
      "14601  0b69432a3ceee7763bf86ffe30c6bc2d      1    0.000068\n",
      "14602  6cabca88c760284183f51f84e4a27b1e      1    0.000068\n",
      "14603  de92494d7140dc94be6a1ebafaf98056      1    0.000068\n",
      "14604  a8e828bfad0869527e9acdd39a36cc91      1    0.000068\n",
      "14605  563dde550fd624d7352f3de77c0cdfcd      1    0.000068\n",
      "\n",
      "[14606 rows x 3 columns]\n",
      "--------------------------------------------------------------------------------\n",
      "                      channel_sales  count  proportion\n",
      "0  foosdfpfkusacimwkcsosbicdxkicaua   6754    0.462413\n",
      "1                           MISSING   3725    0.255032\n",
      "2  lmkebamcaaclubfxadlmueccxoimlema   1843    0.126181\n",
      "3  usilxuppasemubllopkaafesmlibmsdf   1375    0.094139\n",
      "4  ewpakwlliwisiwduibdlfmalxowmwpci    893    0.061139\n",
      "5  sddiedcslfslkckwlfkdpoeeailfpeds     11    0.000753\n",
      "6  epumfxlbckeskwekxbiuasklxalciiuu      3    0.000205\n",
      "7  fixdbufsefwooaasfcxdxadsiekoceaa      2    0.000137\n",
      "--------------------------------------------------------------------------------\n",
      "  has_gas  count  proportion\n",
      "0       f  11955    0.818499\n",
      "1       t   2651    0.181501\n",
      "--------------------------------------------------------------------------------\n",
      "                          origin_up  count  proportion\n",
      "0  lxidpiddsbxsbosboudacockeimpuepw   7097    0.485896\n",
      "1  kamkkxfxxuwbdslkwifmmcsiusiuosws   4294    0.293989\n",
      "2  ldkssxwpmemidmecebumciepifcamkci   3148    0.215528\n",
      "3                           MISSING     64    0.004382\n",
      "4  usapbepcfoloekilkwsdiboslwaxobdp      2    0.000137\n",
      "5  ewxeelcelemmiwuafmddpobolfuxioce      1    0.000068\n",
      "--------------------------------------------------------------------------------\n"
     ]
    }
   ],
   "source": [
    "describe_categorical(dataset=client_df)"
   ]
  },
  {
   "cell_type": "code",
   "execution_count": 37,
   "id": "2ac5fe26-0cc2-4c65-9d58-997a28c2bc7f",
   "metadata": {},
   "outputs": [],
   "source": [
    "#I transformed the \"channel_sales\" and \"origin_up\" values into numerical data types using label encoding, as they were initially unclear.\n",
    "from sklearn.preprocessing import LabelEncoder\n",
    "# label encoding\n",
    "channel_encoder = LabelEncoder()\n",
    "client_df['channel_sales'] = channel_encoder.fit_transform(client_df['channel_sales'])\n",
    "origin_encoder = LabelEncoder()\n",
    "client_df['origin_up'] = origin_encoder.fit_transform(client_df['origin_up'])"
   ]
  },
  {
   "cell_type": "code",
   "execution_count": 38,
   "id": "7041e99e-507d-4552-9046-1bfd2a0c33d9",
   "metadata": {},
   "outputs": [],
   "source": [
    "#Nmeric Data\n",
    "\n",
    "def describe_numeric(dataset):\n",
    "    # Get numeric columns with discrete values and display their frequencies\n",
    "    int_columns = dataset.select_dtypes(include='int').columns.tolist()\n",
    "    if int_columns:\n",
    "        print(\"Numeric variables with discrete values:\", int_columns)\n",
    "        print('=' * 80)\n",
    "        for column in int_columns:\n",
    "            value_counts = dataset[column].value_counts()\n",
    "            proportions = value_counts / len(dataset)\n",
    "            describe_frame = pd.DataFrame({'value': value_counts.index, 'count': value_counts, 'proportion': proportions})\n",
    "            print(describe_frame)\n",
    "            print('--' * 40)\n",
    "    \n",
    "    # Get numeric columns with continuous values and display their summary statistics\n",
    "    float_columns = dataset.select_dtypes(include='float').columns.tolist()\n",
    "    if float_columns:\n",
    "        print(\"Numeric variables with continuous values:\", float_columns)\n",
    "        print('=' * 80)\n",
    "        numeric_summary = dataset[int_columns + float_columns].describe().loc[['min', 'max', 'mean', '50%']].T.rename(columns={'50%': 'median'})\n",
    "        print(numeric_summary)\n",
    "        print('--' * 40)\n",
    "    \n",
    "    # Handle the case when there are no numeric variables in the dataset\n",
    "    if not int_columns and not float_columns:\n",
    "        print(\"There are no numeric variables in the dataset\")\n"
   ]
  },
  {
   "cell_type": "code",
   "execution_count": 39,
   "id": "7a036372-b1c0-44e3-98d4-b562310d3ebd",
   "metadata": {},
   "outputs": [
    {
     "name": "stdout",
     "output_type": "stream",
     "text": [
      "Numeric variables with discrete values: ['channel_sales', 'cons_12m', 'cons_gas_12m', 'cons_last_month', 'forecast_cons_year', 'nb_prod_act', 'num_years_antig', 'origin_up', 'churn', 'contract_start_year', 'contract_end_year']\n",
      "================================================================================\n",
      "               value  count  proportion\n",
      "channel_sales                          \n",
      "4                  4   6754    0.462413\n",
      "0                  0   3725    0.255032\n",
      "5                  5   1843    0.126181\n",
      "7                  7   1375    0.094139\n",
      "2                  2    893    0.061139\n",
      "6                  6     11    0.000753\n",
      "1                  1      3    0.000205\n",
      "3                  3      2    0.000137\n",
      "--------------------------------------------------------------------------------\n",
      "            value  count  proportion\n",
      "cons_12m                            \n",
      "0               0    117    0.008010\n",
      "2882597   2882597     27    0.001849\n",
      "3329244   3329244     24    0.001643\n",
      "1743025   1743025     18    0.001232\n",
      "3926060   3926060     18    0.001232\n",
      "...           ...    ...         ...\n",
      "22927       22927      1    0.000068\n",
      "2630         2630      1    0.000068\n",
      "6346         6346      1    0.000068\n",
      "7985         7985      1    0.000068\n",
      "7223         7223      1    0.000068\n",
      "\n",
      "[11065 rows x 3 columns]\n",
      "--------------------------------------------------------------------------------\n",
      "                value  count  proportion\n",
      "cons_gas_12m                            \n",
      "0                   0  11994    0.821169\n",
      "976731         976731     27    0.001849\n",
      "867921         867921     24    0.001643\n",
      "41532           41532     18    0.001232\n",
      "1959386       1959386     18    0.001232\n",
      "...               ...    ...         ...\n",
      "39211           39211      1    0.000068\n",
      "92364           92364      1    0.000068\n",
      "8905             8905      1    0.000068\n",
      "8125             8125      1    0.000068\n",
      "47940           47940      1    0.000068\n",
      "\n",
      "[2112 rows x 3 columns]\n",
      "--------------------------------------------------------------------------------\n",
      "                  value  count  proportion\n",
      "cons_last_month                           \n",
      "0                     0   4983    0.341161\n",
      "382647           382647     27    0.001849\n",
      "509826           509826     24    0.001643\n",
      "558120           558120     18    0.001232\n",
      "469210           469210     18    0.001232\n",
      "...                 ...    ...         ...\n",
      "202                 202      1    0.000068\n",
      "30084             30084      1    0.000068\n",
      "7190               7190      1    0.000068\n",
      "17336             17336      1    0.000068\n",
      "11367             11367      1    0.000068\n",
      "\n",
      "[4751 rows x 3 columns]\n",
      "--------------------------------------------------------------------------------\n",
      "                    value  count  proportion\n",
      "forecast_cons_year                          \n",
      "0                       0   6148    0.420923\n",
      "1                       1     13    0.000890\n",
      "8                       8     13    0.000890\n",
      "7                       7     11    0.000753\n",
      "453                   453     11    0.000753\n",
      "...                   ...    ...         ...\n",
      "2831                 2831      1    0.000068\n",
      "3759                 3759      1    0.000068\n",
      "1514                 1514      1    0.000068\n",
      "869                   869      1    0.000068\n",
      "3269                 3269      1    0.000068\n",
      "\n",
      "[4218 rows x 3 columns]\n",
      "--------------------------------------------------------------------------------\n",
      "             value  count  proportion\n",
      "nb_prod_act                          \n",
      "1                1  11431    0.782624\n",
      "2                2   2445    0.167397\n",
      "3                3    523    0.035807\n",
      "4                4    150    0.010270\n",
      "5                5     31    0.002122\n",
      "9                9     11    0.000753\n",
      "6                6      8    0.000548\n",
      "8                8      4    0.000274\n",
      "10              10      2    0.000137\n",
      "32              32      1    0.000068\n",
      "--------------------------------------------------------------------------------\n",
      "                 value  count  proportion\n",
      "num_years_antig                          \n",
      "6                    6   4769    0.326510\n",
      "4                    4   3982    0.272628\n",
      "3                    3   2433    0.166575\n",
      "5                    5   2317    0.158633\n",
      "7                    7    509    0.034849\n",
      "11                  11    185    0.012666\n",
      "12                  12    110    0.007531\n",
      "8                    8    103    0.007052\n",
      "9                    9     92    0.006299\n",
      "10                  10     81    0.005546\n",
      "13                  13     13    0.000890\n",
      "2                    2     11    0.000753\n",
      "1                    1      1    0.000068\n",
      "--------------------------------------------------------------------------------\n",
      "           value  count  proportion\n",
      "origin_up                          \n",
      "4              4   7097    0.485896\n",
      "2              2   4294    0.293989\n",
      "3              3   3148    0.215528\n",
      "0              0     64    0.004382\n",
      "5              5      2    0.000137\n",
      "1              1      1    0.000068\n",
      "--------------------------------------------------------------------------------\n",
      "       value  count  proportion\n",
      "churn                          \n",
      "0          0  13187    0.902848\n",
      "1          1   1419    0.097152\n",
      "--------------------------------------------------------------------------------\n",
      "                     value  count  proportion\n",
      "contract_start_year                          \n",
      "2012                  2012   3704    0.253594\n",
      "2010                  2010   3609    0.247090\n",
      "2011                  2011   2758    0.188827\n",
      "2009                  2009   2690    0.184171\n",
      "2013                  2013   1224    0.083801\n",
      "2005                  2005    189    0.012940\n",
      "2004                  2004    137    0.009380\n",
      "2008                  2008    124    0.008490\n",
      "2007                  2007     95    0.006504\n",
      "2003                  2003     39    0.002670\n",
      "2006                  2006     36    0.002465\n",
      "2014                  2014      1    0.000068\n",
      "--------------------------------------------------------------------------------\n",
      "                   value  count  proportion\n",
      "contract_end_year                          \n",
      "2016                2016  13663    0.935437\n",
      "2017                2017    943    0.064563\n",
      "--------------------------------------------------------------------------------\n",
      "Numeric variables with continuous values: ['forecast_cons_12m', 'forecast_discount_energy', 'forecast_meter_rent_12m', 'forecast_price_energy_off_peak', 'forecast_price_energy_peak', 'forecast_price_pow_off_peak', 'imp_cons', 'margin_gross_pow_ele', 'margin_net_pow_ele', 'net_margin', 'pow_max']\n",
      "================================================================================\n",
      "                                   min           max           mean  \\\n",
      "channel_sales                      0.0  7.000000e+00       3.266945   \n",
      "cons_12m                           0.0  6.207104e+06  159220.286252   \n",
      "cons_gas_12m                       0.0  4.154590e+06   28092.375325   \n",
      "cons_last_month                    0.0  7.712030e+05   16090.269752   \n",
      "forecast_cons_year                 0.0  1.753750e+05    1399.762906   \n",
      "nb_prod_act                        1.0  3.200000e+01       1.292346   \n",
      "num_years_antig                    1.0  1.300000e+01       4.997809   \n",
      "origin_up                          0.0  5.000000e+00       3.178899   \n",
      "churn                              0.0  1.000000e+00       0.097152   \n",
      "contract_start_year             2003.0  2.014000e+03    2010.577502   \n",
      "contract_end_year               2016.0  2.017000e+03    2016.064563   \n",
      "forecast_cons_12m                  0.0  8.290283e+04    1868.614880   \n",
      "forecast_discount_energy           0.0  3.000000e+01       0.966726   \n",
      "forecast_meter_rent_12m            0.0  5.993100e+02      63.086871   \n",
      "forecast_price_energy_off_peak     0.0  2.739630e-01       0.137283   \n",
      "forecast_price_energy_peak         0.0  1.959750e-01       0.050491   \n",
      "forecast_price_pow_off_peak        0.0  5.926638e+01      43.130056   \n",
      "imp_cons                           0.0  1.504279e+04     152.786896   \n",
      "margin_gross_pow_ele               0.0  3.746400e+02      24.565121   \n",
      "margin_net_pow_ele                 0.0  3.746400e+02      24.562517   \n",
      "net_margin                         0.0  2.457065e+04     189.264522   \n",
      "pow_max                            3.3  3.200000e+02      18.135136   \n",
      "\n",
      "                                      median  \n",
      "channel_sales                       4.000000  \n",
      "cons_12m                        14115.500000  \n",
      "cons_gas_12m                        0.000000  \n",
      "cons_last_month                   792.500000  \n",
      "forecast_cons_year                314.000000  \n",
      "nb_prod_act                         1.000000  \n",
      "num_years_antig                     5.000000  \n",
      "origin_up                           3.000000  \n",
      "churn                               0.000000  \n",
      "contract_start_year              2011.000000  \n",
      "contract_end_year                2016.000000  \n",
      "forecast_cons_12m                1112.875000  \n",
      "forecast_discount_energy            0.000000  \n",
      "forecast_meter_rent_12m            18.795000  \n",
      "forecast_price_energy_off_peak      0.143166  \n",
      "forecast_price_energy_peak          0.084138  \n",
      "forecast_price_pow_off_peak        44.311378  \n",
      "imp_cons                           37.395000  \n",
      "margin_gross_pow_ele               21.640000  \n",
      "margin_net_pow_ele                 21.640000  \n",
      "net_margin                        112.530000  \n",
      "pow_max                            13.856000  \n",
      "--------------------------------------------------------------------------------\n"
     ]
    }
   ],
   "source": [
    "describe_numeric(dataset=client_df)"
   ]
  },
  {
   "cell_type": "markdown",
   "id": "2747ce46-2b5b-4b44-91e4-fb027a20bc51",
   "metadata": {},
   "source": [
    "<format size=12> No Issues on numeric data"
   ]
  },
  {
   "cell_type": "code",
   "execution_count": 41,
   "id": "0d0dec70-f50f-417c-9003-09dc882e0aad",
   "metadata": {},
   "outputs": [
    {
     "data": {
      "text/html": [
       "<div>\n",
       "<style scoped>\n",
       "    .dataframe tbody tr th:only-of-type {\n",
       "        vertical-align: middle;\n",
       "    }\n",
       "\n",
       "    .dataframe tbody tr th {\n",
       "        vertical-align: top;\n",
       "    }\n",
       "\n",
       "    .dataframe thead th {\n",
       "        text-align: right;\n",
       "    }\n",
       "</style>\n",
       "<table border=\"1\" class=\"dataframe\">\n",
       "  <thead>\n",
       "    <tr style=\"text-align: right;\">\n",
       "      <th></th>\n",
       "      <th>date_activ</th>\n",
       "      <th>date_end</th>\n",
       "      <th>date_modif_prod</th>\n",
       "      <th>date_renewal</th>\n",
       "    </tr>\n",
       "  </thead>\n",
       "  <tbody>\n",
       "    <tr>\n",
       "      <th>count</th>\n",
       "      <td>14606</td>\n",
       "      <td>14606</td>\n",
       "      <td>14606</td>\n",
       "      <td>14606</td>\n",
       "    </tr>\n",
       "    <tr>\n",
       "      <th>mean</th>\n",
       "      <td>2011-01-28 07:54:18.879912448</td>\n",
       "      <td>2016-07-27 20:48:26.422018560</td>\n",
       "      <td>2013-01-02 12:29:10.951663872</td>\n",
       "      <td>2015-07-21 06:59:00.353279488</td>\n",
       "    </tr>\n",
       "    <tr>\n",
       "      <th>min</th>\n",
       "      <td>2003-05-09 00:00:00</td>\n",
       "      <td>2016-01-28 00:00:00</td>\n",
       "      <td>2003-05-09 00:00:00</td>\n",
       "      <td>2013-06-26 00:00:00</td>\n",
       "    </tr>\n",
       "    <tr>\n",
       "      <th>25%</th>\n",
       "      <td>2010-01-15 00:00:00</td>\n",
       "      <td>2016-04-27 06:00:00</td>\n",
       "      <td>2010-08-12 00:00:00</td>\n",
       "      <td>2015-04-17 00:00:00</td>\n",
       "    </tr>\n",
       "    <tr>\n",
       "      <th>50%</th>\n",
       "      <td>2011-03-04 00:00:00</td>\n",
       "      <td>2016-08-01 00:00:00</td>\n",
       "      <td>2013-06-19 00:00:00</td>\n",
       "      <td>2015-07-27 00:00:00</td>\n",
       "    </tr>\n",
       "    <tr>\n",
       "      <th>75%</th>\n",
       "      <td>2012-04-19 00:00:00</td>\n",
       "      <td>2016-10-31 00:00:00</td>\n",
       "      <td>2015-06-16 00:00:00</td>\n",
       "      <td>2015-10-29 00:00:00</td>\n",
       "    </tr>\n",
       "    <tr>\n",
       "      <th>max</th>\n",
       "      <td>2014-09-01 00:00:00</td>\n",
       "      <td>2017-06-13 00:00:00</td>\n",
       "      <td>2016-01-29 00:00:00</td>\n",
       "      <td>2016-01-28 00:00:00</td>\n",
       "    </tr>\n",
       "  </tbody>\n",
       "</table>\n",
       "</div>"
      ],
      "text/plain": [
       "                          date_activ                       date_end  \\\n",
       "count                          14606                          14606   \n",
       "mean   2011-01-28 07:54:18.879912448  2016-07-27 20:48:26.422018560   \n",
       "min              2003-05-09 00:00:00            2016-01-28 00:00:00   \n",
       "25%              2010-01-15 00:00:00            2016-04-27 06:00:00   \n",
       "50%              2011-03-04 00:00:00            2016-08-01 00:00:00   \n",
       "75%              2012-04-19 00:00:00            2016-10-31 00:00:00   \n",
       "max              2014-09-01 00:00:00            2017-06-13 00:00:00   \n",
       "\n",
       "                     date_modif_prod                   date_renewal  \n",
       "count                          14606                          14606  \n",
       "mean   2013-01-02 12:29:10.951663872  2015-07-21 06:59:00.353279488  \n",
       "min              2003-05-09 00:00:00            2013-06-26 00:00:00  \n",
       "25%              2010-08-12 00:00:00            2015-04-17 00:00:00  \n",
       "50%              2013-06-19 00:00:00            2015-07-27 00:00:00  \n",
       "75%              2015-06-16 00:00:00            2015-10-29 00:00:00  \n",
       "max              2016-01-29 00:00:00            2016-01-28 00:00:00  "
      ]
     },
     "execution_count": 41,
     "metadata": {},
     "output_type": "execute_result"
    }
   ],
   "source": [
    "#Checking datetime data.\n",
    "\n",
    "client_df[client_df.dtypes[client_df.dtypes=='datetime64[ns]'].index.tolist()].describe()"
   ]
  },
  {
   "cell_type": "markdown",
   "id": "4887a6ef-3198-43f1-bbb4-beef524579a9",
   "metadata": {},
   "source": [
    "<format size=12> No issues on datetime objects."
   ]
  },
  {
   "cell_type": "code",
   "execution_count": 45,
   "id": "4ffa700a-ee52-4814-be85-12c7fb54b19d",
   "metadata": {},
   "outputs": [],
   "source": [
    "#Analyze Price Data\n",
    "try:\n",
    "    price_df = read_file(f'{DATA_ROOT_DIR}price_data.csv')\n",
    "    log.debug(f'\\nSuccessfully read {DATA_ROOT_DIR}price_data.csv')\n",
    "except Exception as e:\n",
    "    log.error('\\n'+ e)"
   ]
  },
  {
   "cell_type": "code",
   "execution_count": 46,
   "id": "0cf624a4-5710-4b1e-8426-c5010488ed34",
   "metadata": {},
   "outputs": [
    {
     "data": {
      "text/html": [
       "<div>\n",
       "<style scoped>\n",
       "    .dataframe tbody tr th:only-of-type {\n",
       "        vertical-align: middle;\n",
       "    }\n",
       "\n",
       "    .dataframe tbody tr th {\n",
       "        vertical-align: top;\n",
       "    }\n",
       "\n",
       "    .dataframe thead th {\n",
       "        text-align: right;\n",
       "    }\n",
       "</style>\n",
       "<table border=\"1\" class=\"dataframe\">\n",
       "  <thead>\n",
       "    <tr style=\"text-align: right;\">\n",
       "      <th></th>\n",
       "      <th>id</th>\n",
       "      <th>price_date</th>\n",
       "      <th>price_off_peak_var</th>\n",
       "      <th>price_peak_var</th>\n",
       "      <th>price_mid_peak_var</th>\n",
       "      <th>price_off_peak_fix</th>\n",
       "      <th>price_peak_fix</th>\n",
       "      <th>price_mid_peak_fix</th>\n",
       "    </tr>\n",
       "  </thead>\n",
       "  <tbody>\n",
       "    <tr>\n",
       "      <th>0</th>\n",
       "      <td>038af19179925da21a25619c5a24b745</td>\n",
       "      <td>2015-01-01</td>\n",
       "      <td>0.151367</td>\n",
       "      <td>0.0</td>\n",
       "      <td>0.0</td>\n",
       "      <td>44.266931</td>\n",
       "      <td>0.0</td>\n",
       "      <td>0.0</td>\n",
       "    </tr>\n",
       "    <tr>\n",
       "      <th>1</th>\n",
       "      <td>038af19179925da21a25619c5a24b745</td>\n",
       "      <td>2015-02-01</td>\n",
       "      <td>0.151367</td>\n",
       "      <td>0.0</td>\n",
       "      <td>0.0</td>\n",
       "      <td>44.266931</td>\n",
       "      <td>0.0</td>\n",
       "      <td>0.0</td>\n",
       "    </tr>\n",
       "    <tr>\n",
       "      <th>2</th>\n",
       "      <td>038af19179925da21a25619c5a24b745</td>\n",
       "      <td>2015-03-01</td>\n",
       "      <td>0.151367</td>\n",
       "      <td>0.0</td>\n",
       "      <td>0.0</td>\n",
       "      <td>44.266931</td>\n",
       "      <td>0.0</td>\n",
       "      <td>0.0</td>\n",
       "    </tr>\n",
       "  </tbody>\n",
       "</table>\n",
       "</div>"
      ],
      "text/plain": [
       "                                 id  price_date  price_off_peak_var  \\\n",
       "0  038af19179925da21a25619c5a24b745  2015-01-01            0.151367   \n",
       "1  038af19179925da21a25619c5a24b745  2015-02-01            0.151367   \n",
       "2  038af19179925da21a25619c5a24b745  2015-03-01            0.151367   \n",
       "\n",
       "   price_peak_var  price_mid_peak_var  price_off_peak_fix  price_peak_fix  \\\n",
       "0             0.0                 0.0           44.266931             0.0   \n",
       "1             0.0                 0.0           44.266931             0.0   \n",
       "2             0.0                 0.0           44.266931             0.0   \n",
       "\n",
       "   price_mid_peak_fix  \n",
       "0                 0.0  \n",
       "1                 0.0  \n",
       "2                 0.0  "
      ]
     },
     "execution_count": 46,
     "metadata": {},
     "output_type": "execute_result"
    }
   ],
   "source": [
    "price_df.head(3)"
   ]
  },
  {
   "cell_type": "code",
   "execution_count": 47,
   "id": "fffb7f69-0d47-49f4-b6d1-297c898060be",
   "metadata": {},
   "outputs": [
    {
     "name": "stdout",
     "output_type": "stream",
     "text": [
      "<class 'pandas.core.frame.DataFrame'>\n",
      "RangeIndex: 193002 entries, 0 to 193001\n",
      "Data columns (total 8 columns):\n",
      " #   Column              Non-Null Count   Dtype  \n",
      "---  ------              --------------   -----  \n",
      " 0   id                  193002 non-null  object \n",
      " 1   price_date          193002 non-null  object \n",
      " 2   price_off_peak_var  193002 non-null  float64\n",
      " 3   price_peak_var      193002 non-null  float64\n",
      " 4   price_mid_peak_var  193002 non-null  float64\n",
      " 5   price_off_peak_fix  193002 non-null  float64\n",
      " 6   price_peak_fix      193002 non-null  float64\n",
      " 7   price_mid_peak_fix  193002 non-null  float64\n",
      "dtypes: float64(6), object(2)\n",
      "memory usage: 11.8+ MB\n"
     ]
    }
   ],
   "source": [
    "price_df.info()"
   ]
  },
  {
   "cell_type": "code",
   "execution_count": 49,
   "id": "2789db6f-37f6-4917-88fe-4b44357010c7",
   "metadata": {},
   "outputs": [],
   "source": [
    "price_df['price_date'] = pd.to_datetime(price_df['price_date'])"
   ]
  },
  {
   "cell_type": "code",
   "execution_count": 50,
   "id": "75685ba5-0096-4417-9a5c-f9a96669281e",
   "metadata": {},
   "outputs": [
    {
     "name": "stdout",
     "output_type": "stream",
     "text": [
      "There are 193002 rows and 8 columns in the dataset 'Price'\n",
      "--------------------------------------------------------------------------------\n",
      "There are no missing values\n"
     ]
    }
   ],
   "source": [
    "duplicate_and_missing(dataset=price_df, dataset_name='Price')"
   ]
  },
  {
   "cell_type": "code",
   "execution_count": 51,
   "id": "b1ab2c84-3ae7-4766-953b-e6e77d7d565c",
   "metadata": {},
   "outputs": [
    {
     "name": "stdout",
     "output_type": "stream",
     "text": [
      "Categorical variables are: ['id']\n",
      "================================================================================\n",
      "                                     id  count  proportion\n",
      "0      038af19179925da21a25619c5a24b745     12    0.000062\n",
      "1      97589d95ec46ab31ef238d18a616403f     12    0.000062\n",
      "2      97adbcd721fae4874f7ee287ea84200d     12    0.000062\n",
      "3      d74b4544363be674855cf931b6b8af25     12    0.000062\n",
      "4      27276020e48d73f589788d4e37c51879     12    0.000062\n",
      "...                                 ...    ...         ...\n",
      "16091  83cf18b07114e495ae8b7fb235e45ee2      8    0.000041\n",
      "16092  3e459d61dc831e29f8a9a9a59f95efd2      8    0.000041\n",
      "16093  c5dcd5c506e565aaabffa29bc1ec0a37      7    0.000036\n",
      "16094  bf89f2d8c1b133a134fd93603cb4c947      7    0.000036\n",
      "16095  15b36e47cf04bf151e3f4438d12672e5      7    0.000036\n",
      "\n",
      "[16096 rows x 3 columns]\n",
      "--------------------------------------------------------------------------------\n"
     ]
    }
   ],
   "source": [
    "describe_categorical(dataset=price_df)"
   ]
  },
  {
   "cell_type": "code",
   "execution_count": 52,
   "id": "c56feeac-9fc8-44fa-8222-5505b89b2dac",
   "metadata": {},
   "outputs": [
    {
     "name": "stdout",
     "output_type": "stream",
     "text": [
      "Numeric variables with continuous values: ['price_off_peak_var', 'price_peak_var', 'price_mid_peak_var', 'price_off_peak_fix', 'price_peak_fix', 'price_mid_peak_fix']\n",
      "================================================================================\n",
      "                    min        max       mean     median\n",
      "price_off_peak_var  0.0   0.280700   0.141027   0.146033\n",
      "price_peak_var      0.0   0.229788   0.054630   0.085483\n",
      "price_mid_peak_var  0.0   0.114102   0.030496   0.000000\n",
      "price_off_peak_fix  0.0  59.444710  43.334477  44.266930\n",
      "price_peak_fix      0.0  36.490692  10.622875   0.000000\n",
      "price_mid_peak_fix  0.0  17.458221   6.409984   0.000000\n",
      "--------------------------------------------------------------------------------\n"
     ]
    }
   ],
   "source": [
    "describe_numeric(dataset=price_df)"
   ]
  },
  {
   "cell_type": "code",
   "execution_count": 53,
   "id": "e113d39f-4628-47dc-882e-6a779dda2bce",
   "metadata": {},
   "outputs": [
    {
     "data": {
      "text/plain": [
       "count                           193002\n",
       "mean     2015-06-16 12:50:49.933161216\n",
       "min                2015-01-01 00:00:00\n",
       "25%                2015-04-01 00:00:00\n",
       "50%                2015-07-01 00:00:00\n",
       "75%                2015-10-01 00:00:00\n",
       "max                2015-12-01 00:00:00\n",
       "Name: price_date, dtype: object"
      ]
     },
     "execution_count": 53,
     "metadata": {},
     "output_type": "execute_result"
    }
   ],
   "source": [
    "price_df['price_date'].describe()"
   ]
  },
  {
   "cell_type": "markdown",
   "id": "672ec5e8-3ce1-4ae4-a02a-de6bef5760b8",
   "metadata": {},
   "source": [
    "### Data Visualization\n",
    "---"
   ]
  },
  {
   "cell_type": "code",
   "execution_count": null,
   "id": "fdc0a203-6054-4e84-949c-df56785c66f1",
   "metadata": {},
   "outputs": [],
   "source": []
  },
  {
   "cell_type": "code",
   "execution_count": 56,
   "id": "2b1c89d7-c1ea-4d86-97eb-1e88314e373d",
   "metadata": {},
   "outputs": [
    {
     "ename": "KeyError",
     "evalue": "'index'",
     "output_type": "error",
     "traceback": [
      "\u001b[0;31m---------------------------------------------------------------------------\u001b[0m",
      "\u001b[0;31mKeyError\u001b[0m                                  Traceback (most recent call last)",
      "File \u001b[0;32m/usr/local/Caskroom/miniforge/base/envs/tf_m1/lib/python3.8/site-packages/pandas/core/indexes/base.py:3653\u001b[0m, in \u001b[0;36mIndex.get_loc\u001b[0;34m(self, key)\u001b[0m\n\u001b[1;32m   3652\u001b[0m \u001b[38;5;28;01mtry\u001b[39;00m:\n\u001b[0;32m-> 3653\u001b[0m     \u001b[38;5;28;01mreturn\u001b[39;00m \u001b[38;5;28;43mself\u001b[39;49m\u001b[38;5;241;43m.\u001b[39;49m\u001b[43m_engine\u001b[49m\u001b[38;5;241;43m.\u001b[39;49m\u001b[43mget_loc\u001b[49m\u001b[43m(\u001b[49m\u001b[43mcasted_key\u001b[49m\u001b[43m)\u001b[49m\n\u001b[1;32m   3654\u001b[0m \u001b[38;5;28;01mexcept\u001b[39;00m \u001b[38;5;167;01mKeyError\u001b[39;00m \u001b[38;5;28;01mas\u001b[39;00m err:\n",
      "File \u001b[0;32m/usr/local/Caskroom/miniforge/base/envs/tf_m1/lib/python3.8/site-packages/pandas/_libs/index.pyx:147\u001b[0m, in \u001b[0;36mpandas._libs.index.IndexEngine.get_loc\u001b[0;34m()\u001b[0m\n",
      "File \u001b[0;32m/usr/local/Caskroom/miniforge/base/envs/tf_m1/lib/python3.8/site-packages/pandas/_libs/index.pyx:176\u001b[0m, in \u001b[0;36mpandas._libs.index.IndexEngine.get_loc\u001b[0;34m()\u001b[0m\n",
      "File \u001b[0;32mpandas/_libs/hashtable_class_helper.pxi:7080\u001b[0m, in \u001b[0;36mpandas._libs.hashtable.PyObjectHashTable.get_item\u001b[0;34m()\u001b[0m\n",
      "File \u001b[0;32mpandas/_libs/hashtable_class_helper.pxi:7088\u001b[0m, in \u001b[0;36mpandas._libs.hashtable.PyObjectHashTable.get_item\u001b[0;34m()\u001b[0m\n",
      "\u001b[0;31mKeyError\u001b[0m: 'index'",
      "\nThe above exception was the direct cause of the following exception:\n",
      "\u001b[0;31mKeyError\u001b[0m                                  Traceback (most recent call last)",
      "Cell \u001b[0;32mIn[56], line 1\u001b[0m\n\u001b[0;32m----> 1\u001b[0m \u001b[43mplot_bar_chart_with_percent_label\u001b[49m\u001b[43m(\u001b[49m\u001b[43mdf\u001b[49m\u001b[38;5;241;43m=\u001b[39;49m\u001b[43mclient_df\u001b[49m\u001b[43m,\u001b[49m\u001b[43m \u001b[49m\u001b[43mtarget_variable\u001b[49m\u001b[38;5;241;43m=\u001b[39;49m\u001b[38;5;124;43m'\u001b[39;49m\u001b[38;5;124;43mchurn\u001b[39;49m\u001b[38;5;124;43m'\u001b[39;49m\u001b[43m,\u001b[49m\u001b[43m \u001b[49m\u001b[43mgap_label_bar\u001b[49m\u001b[38;5;241;43m=\u001b[39;49m\u001b[38;5;241;43m0.02\u001b[39;49m\u001b[43m)\u001b[49m\n",
      "Cell \u001b[0;32mIn[54], line 8\u001b[0m, in \u001b[0;36mplot_bar_chart_with_percent_label\u001b[0;34m(df, target_variable, if_sort, gap_label_bar, figsize)\u001b[0m\n\u001b[1;32m      6\u001b[0m plot_data \u001b[38;5;241m=\u001b[39m df[target_variable]\u001b[38;5;241m.\u001b[39mvalue_counts()\u001b[38;5;241m.\u001b[39mreset_index(name\u001b[38;5;241m=\u001b[39m\u001b[38;5;124m'\u001b[39m\u001b[38;5;124mcount\u001b[39m\u001b[38;5;124m'\u001b[39m)\n\u001b[1;32m      7\u001b[0m plot_data[\u001b[38;5;124m'\u001b[39m\u001b[38;5;124mpercent\u001b[39m\u001b[38;5;124m'\u001b[39m] \u001b[38;5;241m=\u001b[39m plot_data[\u001b[38;5;124m'\u001b[39m\u001b[38;5;124mcount\u001b[39m\u001b[38;5;124m'\u001b[39m] \u001b[38;5;241m/\u001b[39m plot_data[\u001b[38;5;124m'\u001b[39m\u001b[38;5;124mcount\u001b[39m\u001b[38;5;124m'\u001b[39m]\u001b[38;5;241m.\u001b[39msum()\n\u001b[0;32m----> 8\u001b[0m x_order \u001b[38;5;241m=\u001b[39m \u001b[43mplot_data\u001b[49m\u001b[38;5;241;43m.\u001b[39;49m\u001b[43msort_values\u001b[49m\u001b[43m(\u001b[49m\u001b[43mby\u001b[49m\u001b[38;5;241;43m=\u001b[39;49m\u001b[43m[\u001b[49m\u001b[38;5;124;43m'\u001b[39;49m\u001b[38;5;124;43mpercent\u001b[39;49m\u001b[38;5;124;43m'\u001b[39;49m\u001b[43m]\u001b[49m\u001b[43m,\u001b[49m\u001b[43m \u001b[49m\u001b[43mascending\u001b[49m\u001b[38;5;241;43m=\u001b[39;49m\u001b[38;5;129;43;01mnot\u001b[39;49;00m\u001b[43m \u001b[49m\u001b[43mif_sort\u001b[49m\u001b[43m)\u001b[49m\u001b[43m[\u001b[49m\u001b[38;5;124;43m'\u001b[39;49m\u001b[38;5;124;43mindex\u001b[39;49m\u001b[38;5;124;43m'\u001b[39;49m\u001b[43m]\u001b[49m\n\u001b[1;32m     10\u001b[0m \u001b[38;5;66;03m# Plot\u001b[39;00m\n\u001b[1;32m     11\u001b[0m fig, ax \u001b[38;5;241m=\u001b[39m plt\u001b[38;5;241m.\u001b[39msubplots(figsize\u001b[38;5;241m=\u001b[39mfigsize)\n",
      "File \u001b[0;32m/usr/local/Caskroom/miniforge/base/envs/tf_m1/lib/python3.8/site-packages/pandas/core/frame.py:3761\u001b[0m, in \u001b[0;36mDataFrame.__getitem__\u001b[0;34m(self, key)\u001b[0m\n\u001b[1;32m   3759\u001b[0m \u001b[38;5;28;01mif\u001b[39;00m \u001b[38;5;28mself\u001b[39m\u001b[38;5;241m.\u001b[39mcolumns\u001b[38;5;241m.\u001b[39mnlevels \u001b[38;5;241m>\u001b[39m \u001b[38;5;241m1\u001b[39m:\n\u001b[1;32m   3760\u001b[0m     \u001b[38;5;28;01mreturn\u001b[39;00m \u001b[38;5;28mself\u001b[39m\u001b[38;5;241m.\u001b[39m_getitem_multilevel(key)\n\u001b[0;32m-> 3761\u001b[0m indexer \u001b[38;5;241m=\u001b[39m \u001b[38;5;28;43mself\u001b[39;49m\u001b[38;5;241;43m.\u001b[39;49m\u001b[43mcolumns\u001b[49m\u001b[38;5;241;43m.\u001b[39;49m\u001b[43mget_loc\u001b[49m\u001b[43m(\u001b[49m\u001b[43mkey\u001b[49m\u001b[43m)\u001b[49m\n\u001b[1;32m   3762\u001b[0m \u001b[38;5;28;01mif\u001b[39;00m is_integer(indexer):\n\u001b[1;32m   3763\u001b[0m     indexer \u001b[38;5;241m=\u001b[39m [indexer]\n",
      "File \u001b[0;32m/usr/local/Caskroom/miniforge/base/envs/tf_m1/lib/python3.8/site-packages/pandas/core/indexes/base.py:3655\u001b[0m, in \u001b[0;36mIndex.get_loc\u001b[0;34m(self, key)\u001b[0m\n\u001b[1;32m   3653\u001b[0m     \u001b[38;5;28;01mreturn\u001b[39;00m \u001b[38;5;28mself\u001b[39m\u001b[38;5;241m.\u001b[39m_engine\u001b[38;5;241m.\u001b[39mget_loc(casted_key)\n\u001b[1;32m   3654\u001b[0m \u001b[38;5;28;01mexcept\u001b[39;00m \u001b[38;5;167;01mKeyError\u001b[39;00m \u001b[38;5;28;01mas\u001b[39;00m err:\n\u001b[0;32m-> 3655\u001b[0m     \u001b[38;5;28;01mraise\u001b[39;00m \u001b[38;5;167;01mKeyError\u001b[39;00m(key) \u001b[38;5;28;01mfrom\u001b[39;00m \u001b[38;5;21;01merr\u001b[39;00m\n\u001b[1;32m   3656\u001b[0m \u001b[38;5;28;01mexcept\u001b[39;00m \u001b[38;5;167;01mTypeError\u001b[39;00m:\n\u001b[1;32m   3657\u001b[0m     \u001b[38;5;66;03m# If we have a listlike key, _check_indexing_error will raise\u001b[39;00m\n\u001b[1;32m   3658\u001b[0m     \u001b[38;5;66;03m#  InvalidIndexError. Otherwise we fall through and re-raise\u001b[39;00m\n\u001b[1;32m   3659\u001b[0m     \u001b[38;5;66;03m#  the TypeError.\u001b[39;00m\n\u001b[1;32m   3660\u001b[0m     \u001b[38;5;28mself\u001b[39m\u001b[38;5;241m.\u001b[39m_check_indexing_error(key)\n",
      "\u001b[0;31mKeyError\u001b[0m: 'index'"
     ]
    }
   ],
   "source": [
    "plot_bar_chart_with_percent_label(df=client_df, target_variable='churn', gap_label_bar=0.02)"
   ]
  },
  {
   "cell_type": "code",
   "execution_count": null,
   "id": "6dab2238-95cb-4390-a8ed-1a7afdacd507",
   "metadata": {},
   "outputs": [],
   "source": []
  }
 ],
 "metadata": {
  "kernelspec": {
   "display_name": "Python 3 (ipykernel)",
   "language": "python",
   "name": "python3"
  },
  "language_info": {
   "codemirror_mode": {
    "name": "ipython",
    "version": 3
   },
   "file_extension": ".py",
   "mimetype": "text/x-python",
   "name": "python",
   "nbconvert_exporter": "python",
   "pygments_lexer": "ipython3",
   "version": "3.8.16"
  }
 },
 "nbformat": 4,
 "nbformat_minor": 5
}
